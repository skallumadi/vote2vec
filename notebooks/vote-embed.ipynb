{
 "cells": [
  {
   "cell_type": "code",
   "execution_count": null,
   "metadata": {
    "collapsed": false
   },
   "outputs": [],
   "source": [
    "%matplotlib inline\n",
    "import matplotlib.pyplot as plt\n",
    "from matplotlib.ticker import NullFormatter\n",
    "from matplotlib.colors import hex2color\n",
    "import matplotlib.patches as mpatches\n",
    "from mpl_toolkits.mplot3d import Axes3D\n",
    "\n",
    "import mpld3\n",
    "from mpld3 import plugins\n",
    "mpld3.disable_notebook()\n",
    "\n",
    "# Define some CSS to control our custom labels\n",
    "css = \"\"\"th {color: #000000; background-color: #ffffff;} td {color: #000000; background-color: #ffffff;}\"\"\"\n",
    "from IPython.display import display, HTML\n",
    "\n",
    "import numpy as np\n",
    "import pandas as pd\n",
    "from time import time\n",
    "\n",
    "from sklearn import manifold\n",
    "from sklearn.utils import check_random_state\n",
    "from sklearn import metrics\n",
    "from sklearn.cluster import KMeans\n",
    "from sklearn.cluster import DBSCAN\n",
    "from sklearn.cluster import spectral_clustering\n",
    "from sklearn.metrics.pairwise import cosine_similarity\n",
    "from sklearn.metrics.pairwise import PAIRWISE_DISTANCE_FUNCTIONS\n",
    "\n",
    "from sklearn.datasets import load_digits\n",
    "\n",
    "from sklearn.preprocessing import scale\n",
    "from sklearn.preprocessing import LabelEncoder\n",
    "import sklearn.preprocessing as preprocessing\n",
    "\n",
    "from sklearn.decomposition import *\n",
    "from sklearn import manifold\n",
    "\n",
    "import scipy.spatial.distance as dist\n",
    "from scipy import stats\n",
    "from scipy.sparse import csr_matrix\n",
    "\n",
    "rescale = preprocessing.MinMaxScaler(feature_range=(-1,1))"
   ]
  },
  {
   "cell_type": "code",
   "execution_count": null,
   "metadata": {
    "collapsed": false
   },
   "outputs": [],
   "source": [
    "def plot_meps(data, title):\n",
    "    fig, ax = plt.subplots(figsize=(9, 9))\n",
    "    mep_colour = data['colour']\n",
    "    points = ax.scatter(data.x, data.y, c=mep_colour, s=40, lw=0.05)\n",
    "    ax.set_title(str(len(data.x)) + \" MEPs in 'Vote Space', using \" + title, size=16)\n",
    "    \n",
    "    ax.legend(framealpha=0, bbox_to_anchor=(0, 1), loc=2, handles=[\n",
    "            mpatches.Patch(color='#80BFFF', label='EPP'),\n",
    "            mpatches.Patch(color='#FF0000', label='S&D'),\n",
    "            mpatches.Patch(color='#FFFF00', label='ALDE'),\n",
    "            mpatches.Patch(color='#0000FF', label='ECR'),\n",
    "            mpatches.Patch(color='#009900', label='G/EFA'),\n",
    "            mpatches.Patch(color='#FF9900', label='IND_DEM'),\n",
    "            mpatches.Patch(color='#990000', label='EUL/NGL'),\n",
    "            mpatches.Patch(color='#DDDDDD', label='NI')\n",
    "    ])\n",
    "    \n",
    "    plt.axis('tight')    \n",
    "    #plt.savefig(title+'.pdf', format='pdf', bbox_inches='tight')\n",
    "    plt.show()\n",
    "    \n",
    "    #tooltips = []\n",
    "    #for r in data.iterrows():\n",
    "    #    label = data[['group','country']].ix[[r[0]], :].T\n",
    "    #    #print(type(r), len(r), r)\n",
    "    #    label.columns = ['{0}'.format(r[1][3])]\n",
    "    #    #print(label)\n",
    "    #    # .to_html() is unicode; so make leading 'u' go away with str()\n",
    "    #    tooltips.append(str(label.to_html()))\n",
    "    \n",
    "    #tooltip = plugins.PointHTMLTooltip(points, tooltips, voffset=10, hoffset=10, css=css)\n",
    "    #plugins.connect(fig, tooltip)\n",
    "    \n",
    "    #return mpld3.fig_to_html(fig, template_type='general')"
   ]
  },
  {
   "cell_type": "code",
   "execution_count": null,
   "metadata": {
    "collapsed": true
   },
   "outputs": [],
   "source": [
    "def plot_meps3d(data, title):\n",
    "    # Plot our dataset.\n",
    "    # Variables for manifold learning.\n",
    "    fig = plt.figure(figsize=(9, 9))\n",
    "    ax = fig.add_subplot(111, projection='3d')\n",
    "    plt.suptitle(\"%i MEPs in '3d Space', with nmf\" % (len(data)), fontsize=14)\n",
    "    mep_colour = list(np.array(data['colour']))\n",
    "    x = data['x']\n",
    "    y = data['y']\n",
    "    z = data['z']\n",
    "    ax.scatter(x, y, z, c=mep_colour, marker='o', s=20)\n",
    "    plt.title(\"3d NMF \")\n",
    "    plt.axis('tight')\n",
    "    ax.legend(bbox_to_anchor=(1.2, 1.00), handles=[\n",
    "            mpatches.Patch(color='#FFFF00', label='ALDE'),\n",
    "            mpatches.Patch(color='#0000FF', label='UEN'),\n",
    "            mpatches.Patch(color='#FF9900', label='IND_DEM'),\n",
    "            mpatches.Patch(color='#80BFFF', label='EPP-ED'),\n",
    "            mpatches.Patch(color='#990000', label='EUL_NGL'),\n",
    "            mpatches.Patch(color='#009900', label='G_EFA'),\n",
    "            mpatches.Patch(color='#FF0000', label='SOC(S_D)'),\n",
    "            mpatches.Patch(color='#DDDDDD', label='NI')\n",
    "    ])\n",
    "    #plt.savefig(term+'-3d-nmf.png', format='png')\n",
    "    plt.show()"
   ]
  },
  {
   "cell_type": "code",
   "execution_count": null,
   "metadata": {
    "collapsed": true
   },
   "outputs": [],
   "source": [
    "def load_matrix(f):\n",
    "    loader = np.load(f)\n",
    "    return csr_matrix((loader['data'], loader['indices'], loader['indptr']), shape=loader['shape'])"
   ]
  },
  {
   "cell_type": "code",
   "execution_count": null,
   "metadata": {
    "collapsed": false
   },
   "outputs": [],
   "source": [
    "def between_within_dispersion(X, labels):\n",
    "    le = LabelEncoder()\n",
    "    labels = le.fit_transform(labels)\n",
    "    n_samples, _ = X.shape\n",
    "    n_labels = len(le.classes_)\n",
    "\n",
    "    results = pd.DataFrame(columns=[\"group\",\"meps\",\"wgss\",\"bgss\"])\n",
    "\n",
    "    extra_disp, intra_disp = 0., 0.\n",
    "    mean = np.mean(X, axis=0)\n",
    "    \n",
    "    for k in range(n_labels):\n",
    "        cluster_k = X[labels == k]\n",
    "        mean_k = np.mean(cluster_k, axis=0)\n",
    "        g = le.classes_[k]\n",
    "        bgss = len(cluster_k) * np.sum((mean_k - mean) ** 2)\n",
    "        wgss = np.sum((cluster_k - mean_k) ** 2)\n",
    "        extra_disp += bgss\n",
    "        intra_disp += wgss\n",
    "        results.loc[k] = (g, len(cluster_k), np.round(wgss,2), np.round(bgss,2))\n",
    "\n",
    "    results[\"meps\"] = results[\"meps\"].astype(int)\n",
    "    results = results.sort_values(by=\"meps\", ascending=False)\n",
    "    results.loc[n_labels+1] = (\"total\", X.shape[0], np.round(intra_disp,2), np.round(extra_disp,2))\n",
    "    \n",
    "    return results"
   ]
  },
  {
   "cell_type": "code",
   "execution_count": null,
   "metadata": {
    "collapsed": true
   },
   "outputs": [],
   "source": [
    "def silhouette_score(data, labels):\n",
    "    data = np.array(data)\n",
    "    labels = np.array(labels)\n",
    "    sscore_avg = metrics.silhouette_score(data, labels, metric='euclidean', sample_size=len(labels))\n",
    "    return sscore_avg"
   ]
  },
  {
   "cell_type": "code",
   "execution_count": null,
   "metadata": {
    "collapsed": false
   },
   "outputs": [],
   "source": [
    "def silhouette_scores(data, labels):\n",
    "    data = np.array(data)\n",
    "    labels = np.array(labels)\n",
    "    \n",
    "    sscore_avg = metrics.silhouette_score(data, labels, metric='euclidean', sample_size=len(labels))\n",
    "    sscore_samples = metrics.silhouette_samples(data, labels, metric='euclidean')\n",
    "\n",
    "    results = pd.DataFrame(columns=[\"group\",\"meps\",\"score\"])\n",
    "    for i, g in enumerate(set(labels)):\n",
    "        group = sscore_samples[labels == g]\n",
    "        results.loc[i] = (g, len(group), np.round(np.average(group),2))\n",
    "\n",
    "    results.loc[len(set(labels))+1] = (\"total\", len(data), np.round(sscore_avg, 2))\n",
    "    results[\"meps\"] = results[\"meps\"].astype(int)\n",
    "    return results.sort_values(by=\"meps\", ascending=False)"
   ]
  },
  {
   "cell_type": "code",
   "execution_count": null,
   "metadata": {
    "collapsed": false
   },
   "outputs": [],
   "source": [
    "def project(method, vec_data, dim=2, norm=False, rescale_dims=True, stable=True, model=None):\n",
    "    if (norm):\n",
    "        vec_data = preprocessing.normalize(vec_data, norm='l2')\n",
    "        \n",
    "    if (stable):\n",
    "        nmf_model = NMF(init='nndsvd', n_components=dim, random_state=1, alpha=.1, l1_ratio=.5)\n",
    "        tsne_model = manifold.TSNE(n_components=dim, init='pca', random_state=42, n_iter=1000, perplexity=60, metric='euclidean', learning_rate=200)\n",
    "    else:\n",
    "        nmf_model = NMF(init='random', n_components=dim, alpha=.1, l1_ratio=.5)\n",
    "        tsne_model = manifold.TSNE(n_components=dim, n_iter=1000, perplexity=30, metric='euclidean', learning_rate=200)\n",
    "   \n",
    "    methods = {\n",
    "        \"PCA\": PCA(n_components=dim),\n",
    "        \"MDS\": manifold.MDS(n_components=dim),\n",
    "        \"NMF\": nmf_model,\n",
    "        \"TSNE\": tsne_model,\n",
    "        \"TSVD\": TruncatedSVD(n_components=dim)\n",
    "    }\n",
    "    \n",
    "    if not model:\n",
    "        model = methods[method]\n",
    "    \n",
    "    t_data = model.fit_transform(vec_data)\n",
    "\n",
    "    if(rescale_dims):\n",
    "        t_data = rescale.fit_transform(t_data)\n",
    "    \n",
    "    print(method, t_data.shape)\n",
    "    return t_data"
   ]
  },
  {
   "cell_type": "code",
   "execution_count": null,
   "metadata": {
    "collapsed": true
   },
   "outputs": [],
   "source": [
    "def eval_show(vec_data, show=False):\n",
    "    print(\"S:\", silhouette_score(vec_data, party_l))\n",
    "    data_disp = between_within_dispersion(vec_data, party_l)\n",
    "    if (show):\n",
    "        display(data_disp)\n",
    "        display(data_disp[data_disp['group']==\"total\"])\n",
    "    return data_disp"
   ]
  },
  {
   "cell_type": "code",
   "execution_count": null,
   "metadata": {
    "collapsed": false
   },
   "outputs": [],
   "source": [
    "# Load Data:\n",
    "term = 'term7'\n",
    "variant = 'topic' # Yes, No, abstain 1-hot encoded, topic\n",
    "vote_encoding = 'count'\n",
    "\n",
    "# Load MEP Data\n",
    "if (term == 'term6'):\n",
    "    data = pd.read_csv('../data.processed/meps_term6.csv')\n",
    "    data = data[~data.duplicated(subset=['ident'])]\n",
    "    data = data[data['grp'] != 'NI'] # drop Non attached\n",
    "if (term == 'term7'):\n",
    "    data = pd.read_csv('../data.processed/meps_term7.csv')\n",
    "    data = data[~data.duplicated(subset=['ident'])]\n",
    "    data = data[data['grp'] != 'NI'] # drop Non attached\n",
    "\n",
    "# Load Vectors:\n",
    "if (vote_encoding == 'sgns'):\n",
    "    vocab_file = '../data.processed/'+term+variant+'-votes/sgns.meps'\n",
    "    vector_file = '../data.processed/'+term+variant+'-votes/sgns.npy'\n",
    "    vec_data = np.load(vector_file).astype(np.float64)\n",
    "\n",
    "if (vote_encoding == 'count'):\n",
    "    vocab_file = '../data.processed/'+term+variant+'-votes/count.meps'\n",
    "    vector_file = '../data.processed/'+term+variant+'-votes/count.csr.npz'\n",
    "    vec_data = load_matrix(vector_file).astype(np.float64).T\n",
    "    vec_data = vec_data.toarray()\n",
    "    \n",
    "party_c = list() # colours\n",
    "party_l = list() # labels\n",
    "\n",
    "wnom_data = pd.DataFrame(columns=['ident','group','name','colour','x','y'])\n",
    "\n",
    "ii = 1\n",
    "with open(vocab_file) as f:\n",
    "    eval_meps = set(data['ident'])\n",
    "    rmids = list()\n",
    "    for i, line in enumerate(f.readlines()): \n",
    "        mepident = int(line.strip())\n",
    "        if (mepident not in eval_meps):\n",
    "            rmids.append(i)\n",
    "        else:\n",
    "            mepgroup=data[data['ident']==mepident]['grp'].iloc[0]\n",
    "            mepname= data[data['ident']==mepident]['name'].iloc[0]\n",
    "            mepcol = data[data['ident']==mepident]['col'].iloc[0]\n",
    "            mepx =   data[data['ident']==mepident]['coord1D'].iloc[0]\n",
    "            mepy =   data[data['ident']==mepident]['coord2D'].iloc[0]\n",
    "            if (mepgroup!='NI'):\n",
    "                party_l.append(data[data['ident']==mepident]['grp'].iloc[0])\n",
    "                party_c.append(data[data['ident']==mepident]['col'].iloc[0])\n",
    "                wnom_data.loc[ii] = (mepident, mepgroup, mepname, mepcol, mepx, -mepy)\n",
    "                ii = ii + 1\n",
    "            else:\n",
    "                rmids.append(i)\n",
    "\n",
    "print (\"Deleted\", len(set(rmids)), \"meps: NI or not in w-nominate\")\n",
    "e_vec_data = np.delete(vec_data, rmids, axis=0)\n",
    "\n",
    "print (\"Loaded\", vote_encoding, vec_data.shape, \"vectors\")\n",
    "print ('Votes:', vote_encoding, e_vec_data.shape, len(party_l), ' MEPs', len(set(party_l)), ' groups')"
   ]
  },
  {
   "cell_type": "code",
   "execution_count": null,
   "metadata": {
    "collapsed": true
   },
   "outputs": [],
   "source": [
    "wnominate_vec = np.stack((wnom_data['x'], wnom_data['y']), axis=-1)"
   ]
  },
  {
   "cell_type": "code",
   "execution_count": null,
   "metadata": {
    "collapsed": false
   },
   "outputs": [],
   "source": [
    "#count\n",
    "pca_cvec = project(method=\"PCA\", vec_data=e_vec_data)\n",
    "nmf_cvec = project(method=\"NMF\", vec_data=e_vec_data)\n",
    "tsne_cvec = project(method=\"TSNE\", vec_data=e_vec_data)"
   ]
  },
  {
   "cell_type": "code",
   "execution_count": null,
   "metadata": {
    "collapsed": false
   },
   "outputs": [],
   "source": [
    "#sgns\n",
    "pca_svec = project(method=\"PCA\", vec_data=e_vec_data)\n",
    "tsne_svec = project(method=\"TSNE\", vec_data=e_vec_data)"
   ]
  },
  {
   "cell_type": "code",
   "execution_count": null,
   "metadata": {
    "collapsed": false,
    "scrolled": false
   },
   "outputs": [],
   "source": [
    "vecsshow = [wnominate_vec, pca_cvec, nmf_cvec, tsne_cvec, tsnec_cvec]\n",
    "vecsnames = [\"wnominate\", \"pca\", \"nmf\", \"tsne\", \"sgns\"]\n",
    "\n",
    "for i, vec in enumerate(vecsshow): \n",
    "    eval_show(vec, show=True)\n",
    "    plot_data = vec.copy()\n",
    "    plot_data['x'] = vec.T[0]\n",
    "    plot_data['y'] = vec.T[1]\n",
    "    plot_meps(plot_data, term + \" \" + vecsnames[i] + \" \" + variant) # 7th "
   ]
  },
  {
   "cell_type": "code",
   "execution_count": null,
   "metadata": {
    "collapsed": false
   },
   "outputs": [],
   "source": [
    "# wgss = within group \n",
    "# bgss = between group\n",
    "\n",
    "show_s, hide_s,  = \"bgss\", \"wgss\"\n",
    "#show_s, hide_s = \"wgss\", \"bgss\"\n",
    "\n",
    "wnominate_displ = eval_show(wnominate_vec).drop([hide_s], axis=1).rename(columns={show_s:'wnom '+show_s})\n",
    "pca_displ = eval_show(pca_cvec).drop(['meps','group',hide_s], axis=1).rename(columns={show_s:'pca '+show_s})\n",
    "nmf_displ = eval_show(nmf_cvec).drop(['meps','group',hide_s], axis=1).rename(columns={show_s:'nmf '+show_s})\n",
    "tsne_displ = eval_show(tsnec_cvec).drop(['meps','group',hide_s], axis=1).rename(columns={show_s:'tsne '+show_s})\n",
    "sgns_displ = eval_show(tsne_svec).drop(['meps','group',hide_s], axis=1).rename(columns={show_s:'sgns '+show_s})\n",
    "\n",
    "res = pd.concat([wnominate_displ, pca_displ, nmf_displ, tsne_displ, sgns_displ], axis=1)\n",
    "display(res)\n",
    "#print(res.to_latex())"
   ]
  },
  {
   "cell_type": "code",
   "execution_count": null,
   "metadata": {
    "collapsed": false,
    "scrolled": false
   },
   "outputs": [],
   "source": [
    "print (term, variant)\n",
    "results = pd.DataFrame(columns=[\"dimension\",\"run\",\"method\",\"score\"])\n",
    "for i in range(1,6): # dimensions\n",
    "    for l in range(0,5): # initializations\n",
    "        print (\"Dimension: \", i , l)\n",
    "        pca_cvec = project(method=\"PCA\", vec_data=e_vec_data, dim=i, stable=False)\n",
    "        nmf_cvec = project(method=\"NMF\", vec_data=e_vec_data, dim=i, stable=False)\n",
    "        tsne_cvec = project(method=\"TSNE\", vec_data=e_vec_data, dim=i, stable=False)\n",
    "        nmfscore = calinski_harabaz_score(nmf_cvec, party_l)\n",
    "        pcascore = calinski_harabaz_score(pca_cvec, party_l)\n",
    "        tsnescore = calinski_harabaz_score(tsne_cvec, party_l)    \n",
    "        results.loc[len(results)] = (i, l, \"PCA\", pcascore)\n",
    "        results.loc[len(results)] = (i, l, \"NMF\", nmfscore)\n",
    "        results.loc[len(results)] = (i, l, \"TSNE\", tsnescore)\n",
    "        print (i, l, pcascore, nmfscore, tsnescore)\n",
    "    \n",
    "results.to_csv(\"dimensions\"+term+variant+\".csv\")\n",
    "results"
   ]
  },
  {
   "cell_type": "code",
   "execution_count": null,
   "metadata": {
    "collapsed": false
   },
   "outputs": [],
   "source": [
    "#wnominate_vec, pca_cvec, nmf_cvec, tsne_cvec\n",
    "\n",
    "fig = plt.figure(figsize=(15, 7))\n",
    "plt.suptitle(\"Term 7\",fontsize=14)\n",
    "\n",
    "pt_lw=0.05\n",
    "pt_size=30\n",
    "\n",
    "Y = wnominate_vec.copy()\n",
    "print(\"w-nominate\")\n",
    "ax = fig.add_subplot(2,5,1)\n",
    "plt.scatter(Y[:, 0], Y[:, 1], c=party_c, s=pt_size, lw=pt_lw)\n",
    "plt.title(\"wnominate\")\n",
    "ax.xaxis.set_major_formatter(NullFormatter())\n",
    "ax.yaxis.set_major_formatter(NullFormatter())\n",
    "plt.axis('tight')\n",
    "\n",
    "Y = pca_cvec.copy()\n",
    "print(\"PCA\")\n",
    "ax = fig.add_subplot(2,5,2)\n",
    "plt.scatter(Y[:, 1], -Y[:, 0], c=party_c, s=pt_size, lw=pt_lw)\n",
    "plt.title(\"PCA\")\n",
    "ax.xaxis.set_major_formatter(NullFormatter())\n",
    "ax.yaxis.set_major_formatter(NullFormatter())\n",
    "plt.axis('tight')\n",
    "\n",
    "Y = nmf_cvec.copy()\n",
    "print(\"NMF\")\n",
    "ax = fig.add_subplot(2,5,3)\n",
    "plt.scatter(-Y[:, 1], Y[:, 0], c=party_c, s=pt_size, lw=pt_lw)\n",
    "plt.title(\"NMF\")\n",
    "ax.xaxis.set_major_formatter(NullFormatter())\n",
    "ax.yaxis.set_major_formatter(NullFormatter())\n",
    "plt.axis('tight')\n",
    "\n",
    "Y = tsnec_cvec.copy()\n",
    "print(\"tSNE\")\n",
    "ax = fig.add_subplot(2,5,4)\n",
    "plt.scatter(-Y[:, 1], -Y[:, 0], c=party_c, s=pt_size, lw=pt_lw)\n",
    "plt.title(\"tSNE\")\n",
    "ax.xaxis.set_major_formatter(NullFormatter())\n",
    "ax.yaxis.set_major_formatter(NullFormatter())\n",
    "plt.axis('tight')\n",
    "\n",
    "\n",
    "Y = tsne_svec.copy()\n",
    "print(\"tSNE(SGNS)\")\n",
    "ax = fig.add_subplot(2,5,5)\n",
    "plt.scatter(-Y[:, 1], Y[:, 0], c=party_c, s=pt_size, lw=pt_lw)\n",
    "plt.title(\"sgns tsne\")\n",
    "ax.xaxis.set_major_formatter(NullFormatter())\n",
    "ax.yaxis.set_major_formatter(NullFormatter())\n",
    "plt.axis('tight')\n",
    "\n",
    "#plt.savefig('/home/igor/git/parl2vec/reports/aics/figures/term7.pdf', format='pdf', bbox_inches='tight')\n",
    "plt.show()"
   ]
  }
 ],
 "metadata": {
  "kernelspec": {
   "display_name": "Python 3",
   "language": "python",
   "name": "python3"
  },
  "language_info": {
   "codemirror_mode": {
    "name": "ipython",
    "version": 3
   },
   "file_extension": ".py",
   "mimetype": "text/x-python",
   "name": "python",
   "nbconvert_exporter": "python",
   "pygments_lexer": "ipython3",
   "version": "3.5.1"
  }
 },
 "nbformat": 4,
 "nbformat_minor": 0
}
